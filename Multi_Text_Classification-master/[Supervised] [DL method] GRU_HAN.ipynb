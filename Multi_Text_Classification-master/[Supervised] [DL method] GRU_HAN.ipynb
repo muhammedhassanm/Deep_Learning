{
  "nbformat": 4,
  "nbformat_minor": 0,
  "metadata": {
    "colab": {
      "name": "HAN.ipynb",
      "version": "0.3.2",
      "provenance": [],
      "toc_visible": true
    },
    "kernelspec": {
      "name": "python3",
      "display_name": "Python 3"
    }
  },
  "cells": [
    {
      "metadata": {
        "id": "jgKNJonl4Gm-",
        "colab_type": "text"
      },
      "cell_type": "markdown",
      "source": [
        "**https://humboldt-wi.github.io/blog/research/information_systems_1819/group5_han/**"
      ]
    },
    {
      "metadata": {
        "id": "WUaZfmb9gId7",
        "colab_type": "code",
        "outputId": "861e68d1-df3b-4ba0-f9b0-05efcd4cc7b0",
        "colab": {
          "base_uri": "https://localhost:8080/",
          "height": 136
        }
      },
      "cell_type": "code",
      "source": [
        "# Import necessary libraries\n",
        "import numpy as np\n",
        "import pandas as pd\n",
        "from matplotlib import pyplot as plt\n",
        "import math\n",
        "import string\n",
        "import requests\n",
        "from bs4 import BeautifulSoup\n",
        "import re\n",
        "\n",
        "import os\n",
        "import sys\n",
        "from IPython.display import display, HTML\n",
        "import urllib\n",
        "import gzip\n",
        "\n",
        "import nltk\n",
        "from nltk import tokenize\n",
        "nltk.download('punkt')\n",
        "from nltk.corpus import stopwords\n",
        "nltk.download('stopwords')\n",
        "from nltk.stem import WordNetLemmatizer\n",
        "nltk.download('wordnet')\n",
        "\n",
        "import pip\n",
        "import theano\n",
        "import keras\n",
        "from keras.preprocessing.sequence import pad_sequences\n",
        "from keras.preprocessing.text import Tokenizer,  text_to_word_sequence\n",
        "from keras import initializers as initializers, regularizers, constraints\n",
        "from keras.layers import Dense, Dropout, Activation, Flatten, Input\n",
        "from keras.layers import Convolution2D, MaxPooling2D, Embedding, Dropout, LSTM, GRU, Bidirectional, TimeDistributed\n",
        "from keras.models import Sequential, Model, load_model\n",
        "from keras import backend as K\n",
        "from keras.engine.topology import Layer\n",
        "from keras.utils import plot_model, np_utils\n",
        "from keras.utils.np_utils import to_categorical"
      ],
      "execution_count": 0,
      "outputs": [
        {
          "output_type": "stream",
          "text": [
            "[nltk_data] Downloading package punkt to /root/nltk_data...\n",
            "[nltk_data]   Unzipping tokenizers/punkt.zip.\n",
            "[nltk_data] Downloading package stopwords to /root/nltk_data...\n",
            "[nltk_data]   Unzipping corpora/stopwords.zip.\n",
            "[nltk_data] Downloading package wordnet to /root/nltk_data...\n",
            "[nltk_data]   Unzipping corpora/wordnet.zip.\n"
          ],
          "name": "stdout"
        },
        {
          "output_type": "stream",
          "text": [
            "Using TensorFlow backend.\n"
          ],
          "name": "stderr"
        }
      ]
    },
    {
      "metadata": {
        "id": "YfW5F6D6yaoE",
        "colab_type": "code",
        "outputId": "6698ee8e-a253-4522-ccff-885a651212cf",
        "colab": {
          "base_uri": "https://localhost:8080/",
          "height": 122
        }
      },
      "cell_type": "code",
      "source": [
        "from google.colab import drive\n",
        "drive.mount('/content/drive')"
      ],
      "execution_count": 0,
      "outputs": [
        {
          "output_type": "stream",
          "text": [
            "Go to this URL in a browser: https://accounts.google.com/o/oauth2/auth?client_id=947318989803-6bn6qk8qdgf4n4g3pfee6491hc0brc4i.apps.googleusercontent.com&redirect_uri=urn%3Aietf%3Awg%3Aoauth%3A2.0%3Aoob&scope=email%20https%3A%2F%2Fwww.googleapis.com%2Fauth%2Fdocs.test%20https%3A%2F%2Fwww.googleapis.com%2Fauth%2Fdrive%20https%3A%2F%2Fwww.googleapis.com%2Fauth%2Fdrive.photos.readonly%20https%3A%2F%2Fwww.googleapis.com%2Fauth%2Fpeopleapi.readonly&response_type=code\n",
            "\n",
            "Enter your authorization code:\n",
            "··········\n",
            "Mounted at /content/drive\n"
          ],
          "name": "stdout"
        }
      ]
    },
    {
      "metadata": {
        "id": "Zwj57XIwgZcI",
        "colab_type": "text"
      },
      "cell_type": "markdown",
      "source": [
        "# Functions"
      ]
    },
    {
      "metadata": {
        "id": "tmMwAgdNgUrB",
        "colab_type": "code",
        "colab": {}
      },
      "cell_type": "code",
      "source": [
        "def cleanString(review,stopWords):\n",
        "    lemmatizer = WordNetLemmatizer()\n",
        "    returnString = \"\"\n",
        "    sentence_token = tokenize.sent_tokenize(review)\n",
        "    idx_list = []\n",
        "    for j in range(len(sentence_token)):\n",
        "        single_sentence = tokenize.word_tokenize(sentence_token[j])\n",
        "        sentences_filtered = [(idx,lemmatizer.lemmatize(w.lower())) for idx,w in enumerate(single_sentence) \n",
        "                              if w.lower() not in stopWords and w.isalnum()]\n",
        "        idx_list.append([x[0] for x in sentences_filtered])\n",
        "        word_list = [x[1] for x in sentences_filtered]\n",
        "        returnString = returnString + ' '.join(word_list) + ' . '\n",
        "    \n",
        "    return returnString, idx_list"
      ],
      "execution_count": 0,
      "outputs": []
    },
    {
      "metadata": {
        "id": "aXf3t1d0gUve",
        "colab_type": "code",
        "colab": {}
      },
      "cell_type": "code",
      "source": [
        "def split_df(dataframe, column_name, training_split = 0.6, validation_split = 0.2, test_split = 0.2):\n",
        "    \"\"\"\n",
        "    Splits a pandas dataframe into trainingset, validationset and testset in specified ratio.\n",
        "    All sets are balanced, which means they have the same ratio for each categorie as the full set.\n",
        "    Input:   dataframe        - Pandas Dataframe, should include a column for data and one for categories\n",
        "             column_name      - Name of dataframe column which contains the categorical output values\n",
        "             training_split   - from ]0,1[, default = 0.6\n",
        "             validation_split - from ]0,1[, default = 0.2        \n",
        "             test_split       - from ]0,1[, default = 0.2\n",
        "                                Sum of all splits need to be 1\n",
        "    Output:  train            - Pandas DataFrame of trainset\n",
        "             validation       - Pandas DataFrame of validationset\n",
        "             test             - Pandas DataFrame of testset\n",
        "    \"\"\"\n",
        "    if training_split + validation_split + test_split != 1.0:\n",
        "        raise ValueError('Split paramter sum should be 1.0')\n",
        "        \n",
        "    total = len(dataframe.index)\n",
        " \n",
        "    train = dataframe.reset_index().groupby(column_name).apply(lambda x: x.sample(frac=training_split))\\\n",
        "    .reset_index(drop=True).set_index('index')\n",
        "    train = train.sample(frac=1)\n",
        "    temp_df = dataframe.drop(train.index)\n",
        "    validation = temp_df.reset_index().groupby(column_name)\\\n",
        "    .apply(lambda x: x.sample(frac=validation_split/(test_split+validation_split)))\\\n",
        "           .reset_index(drop=True).set_index('index')\n",
        "    validation = validation.sample(frac=1)\n",
        "    test = temp_df.drop(validation.index)\n",
        "    test = test.sample(frac=1)\n",
        "    \n",
        "    print('Total: ', len(dataframe))\n",
        "    print('Training: ', len(train), ', Percentage: ', len(train)/len(dataframe))\n",
        "    print('Validation: ', len(validation), ', Percentage: ', len(validation)/len(dataframe))\n",
        "    print('Test:', len(test), ', Percentage: ', len(test)/len(dataframe))\n",
        "\n",
        "    return train, validation, test"
      ],
      "execution_count": 0,
      "outputs": []
    },
    {
      "metadata": {
        "id": "CVWSB2t-gUy3",
        "colab_type": "code",
        "colab": {}
      },
      "cell_type": "code",
      "source": [
        "def wordToSeq(text,word_index,max_sentences,max_words,max_features):\n",
        "    \"\"\"\n",
        "    Converts a string to a numpy matrix where each word is tokenized.\n",
        "    Arrays are zero-padded to max_sentences and max_words length.\n",
        "    \n",
        "    Input:    text           - string of sentences\n",
        "              word_index     - trained word_index\n",
        "              max_sentences  - maximum number of sentences allowed per document for HAN\n",
        "              max_words      - maximum number of words in each sentence for HAN\n",
        "              max_features   - maximum number of unique words to be tokenized\n",
        "    Output:   data           - Numpy Matrix of size [max_sentences x max_words]\n",
        "    \"\"\"\n",
        "    sentences = tokenize.sent_tokenize(text)\n",
        "    data = np.zeros((max_sentences, max_words), dtype='int32')\n",
        "    for j, sent in enumerate(sentences):\n",
        "        if j< max_sentences:\n",
        "            wordTokens = tokenize.word_tokenize(sent.rstrip('.'))\n",
        "            wordTokens = [w for w in wordTokens]\n",
        "            k=0\n",
        "            for _, word in enumerate(wordTokens):\n",
        "                try:\n",
        "                    if k<max_words and word_index[word]<max_features:\n",
        "                        data[j,k] = word_index[word]\n",
        "                        k=k+1\n",
        "                except:\n",
        "                    pass\n",
        "    return data"
      ],
      "execution_count": 0,
      "outputs": []
    },
    {
      "metadata": {
        "id": "ZTvGwt6QgU4_",
        "colab_type": "code",
        "colab": {}
      },
      "cell_type": "code",
      "source": [
        "def to_categorical(series,class_dict):\n",
        "    \"\"\"\n",
        "    Converts category labels to vectors,\n",
        "    Input:     series     - pandas Series containing numbered category labels\n",
        "               class_dict - dictionary of integer to category string \n",
        "                            e.g. {0: 'business', 1: 'entertainment', 2: 'politics', 3: 'sport', 4: 'tech'}\n",
        "    Output:    Array      - numpy array containing categories converted to lists\n",
        "                            e.g. 0:'business'      -> [1 0 0 0 0]\n",
        "                                 1:'entertainment' -> [0 1 0 0 0]\n",
        "                                 2:'politics'      -> [0 0 1 0 0]\n",
        "                                 3:'sport'         -> [0 0 0 1 0]\n",
        "                                 4:'tech'          -> [0 0 0 0 1]\n",
        "    \"\"\"\n",
        "    n_classes = len(class_dict)\n",
        "    new_dict = {}\n",
        "    for key,value in class_dict.items():\n",
        "        cat_list = [0] * n_classes\n",
        "        cat_list[key] = 1\n",
        "        new_dict[key] = cat_list\n",
        "    y_cat = []\n",
        "    for key,value in series.iteritems():\n",
        "        y_cat.append(new_dict[value])\n",
        "    return np.array(y_cat)"
      ],
      "execution_count": 0,
      "outputs": []
    },
    {
      "metadata": {
        "id": "m1XGIMYKg-OS",
        "colab_type": "text"
      },
      "cell_type": "markdown",
      "source": [
        "# Attention layer"
      ]
    },
    {
      "metadata": {
        "id": "I6-w_wuXgVAE",
        "colab_type": "code",
        "colab": {}
      },
      "cell_type": "code",
      "source": [
        "class AttentionLayer(Layer):\n",
        "    \"\"\"\n",
        "    Hierarchial Attention Layer as described by Hierarchical Attention Networks for Document Classification(2016)\n",
        "    - Yang et. al.\n",
        "    Source: https://www.cs.cmu.edu/~hovy/papers/16HLT-hierarchical-attention-networks.pdf\n",
        "    Theano backend\n",
        "    \"\"\"\n",
        "    def __init__(self,attention_dim=100,return_coefficients=False,**kwargs):\n",
        "        # Initializer \n",
        "        self.supports_masking = True\n",
        "        self.return_coefficients = return_coefficients\n",
        "        self.init = initializers.get('glorot_uniform') # initializes values with uniform distribution\n",
        "        self.attention_dim = attention_dim\n",
        "        super(AttentionLayer, self).__init__(**kwargs)\n",
        "\n",
        "    def build(self, input_shape):\n",
        "        # Builds all weights\n",
        "        # W = Weight matrix, b = bias vector, u = context vector\n",
        "        assert len(input_shape) == 3\n",
        "        self.W = K.variable(self.init((input_shape[-1], self.attention_dim)),name='W')\n",
        "        self.b = K.variable(self.init((self.attention_dim, )),name='b')\n",
        "        self.u = K.variable(self.init((self.attention_dim, 1)),name='u')\n",
        "        self.trainable_weights = [self.W, self.b, self.u]\n",
        "\n",
        "        super(AttentionLayer, self).build(input_shape)\n",
        "\n",
        "    def compute_mask(self, input, input_mask=None):\n",
        "        return None\n",
        "\n",
        "    def call(self, hit, mask=None):\n",
        "        # Here, the actual calculation is done\n",
        "        uit = K.bias_add(K.dot(hit, self.W),self.b)\n",
        "        uit = K.tanh(uit)\n",
        "        \n",
        "        ait = K.dot(uit, self.u)\n",
        "        ait = K.squeeze(ait, -1)\n",
        "        ait = K.exp(ait)\n",
        "        \n",
        "        if mask is not None:\n",
        "            ait *= K.cast(mask, K.floatx())\n",
        "\n",
        "        ait /= K.cast(K.sum(ait, axis=1, keepdims=True) + K.epsilon(), K.floatx())\n",
        "        ait = K.expand_dims(ait)\n",
        "        weighted_input = hit * ait\n",
        "        \n",
        "        if self.return_coefficients:\n",
        "            return [K.sum(weighted_input, axis=1), ait]\n",
        "        else:\n",
        "            return K.sum(weighted_input, axis=1)\n",
        "\n",
        "    def compute_output_shape(self, input_shape):\n",
        "        if self.return_coefficients:\n",
        "            return [(input_shape[0], input_shape[-1]), (input_shape[0], input_shape[-1], 1)]\n",
        "        else:\n",
        "            return input_shape[0], input_shape[-1]"
      ],
      "execution_count": 0,
      "outputs": []
    },
    {
      "metadata": {
        "id": "riBDmUnBhILe",
        "colab_type": "text"
      },
      "cell_type": "markdown",
      "source": [
        "# Load Data"
      ]
    },
    {
      "metadata": {
        "id": "pumktA96zJ4p",
        "colab_type": "code",
        "colab": {}
      },
      "cell_type": "code",
      "source": [
        "data_df = pd.read_excel(\"/content/drive/My Drive/Colab Notebooks/data_consolidated.xlsx\")"
      ],
      "execution_count": 0,
      "outputs": []
    },
    {
      "metadata": {
        "id": "mVs2pmmwU6mG",
        "colab_type": "code",
        "outputId": "e70501bf-2498-4fd7-dd89-3d874e6e0ab9",
        "colab": {
          "base_uri": "https://localhost:8080/",
          "height": 202
        }
      },
      "cell_type": "code",
      "source": [
        "data_df.head()"
      ],
      "execution_count": 0,
      "outputs": [
        {
          "output_type": "execute_result",
          "data": {
            "text/html": [
              "<div>\n",
              "<style scoped>\n",
              "    .dataframe tbody tr th:only-of-type {\n",
              "        vertical-align: middle;\n",
              "    }\n",
              "\n",
              "    .dataframe tbody tr th {\n",
              "        vertical-align: top;\n",
              "    }\n",
              "\n",
              "    .dataframe thead th {\n",
              "        text-align: right;\n",
              "    }\n",
              "</style>\n",
              "<table border=\"1\" class=\"dataframe\">\n",
              "  <thead>\n",
              "    <tr style=\"text-align: right;\">\n",
              "      <th></th>\n",
              "      <th>Text</th>\n",
              "      <th>Category</th>\n",
              "    </tr>\n",
              "  </thead>\n",
              "  <tbody>\n",
              "    <tr>\n",
              "      <th>0</th>\n",
              "      <td>Ad sales boost Time Warner profit. Quarterly p...</td>\n",
              "      <td>business</td>\n",
              "    </tr>\n",
              "    <tr>\n",
              "      <th>1</th>\n",
              "      <td>Court rejects $280bn tobacco case. A US govern...</td>\n",
              "      <td>business</td>\n",
              "    </tr>\n",
              "    <tr>\n",
              "      <th>2</th>\n",
              "      <td>Dollar gains on Greenspan speech. The dollar h...</td>\n",
              "      <td>business</td>\n",
              "    </tr>\n",
              "    <tr>\n",
              "      <th>3</th>\n",
              "      <td>Ask Jeeves tips online ad revival. Ask Jeeves ...</td>\n",
              "      <td>business</td>\n",
              "    </tr>\n",
              "    <tr>\n",
              "      <th>4</th>\n",
              "      <td>India calls for fair trade rules. India, which...</td>\n",
              "      <td>business</td>\n",
              "    </tr>\n",
              "  </tbody>\n",
              "</table>\n",
              "</div>"
            ],
            "text/plain": [
              "                                                Text  Category\n",
              "0  Ad sales boost Time Warner profit. Quarterly p...  business\n",
              "1  Court rejects $280bn tobacco case. A US govern...  business\n",
              "2  Dollar gains on Greenspan speech. The dollar h...  business\n",
              "3  Ask Jeeves tips online ad revival. Ask Jeeves ...  business\n",
              "4  India calls for fair trade rules. India, which...  business"
            ]
          },
          "metadata": {
            "tags": []
          },
          "execution_count": 44
        }
      ]
    },
    {
      "metadata": {
        "id": "GPrFh7aRgVFu",
        "colab_type": "code",
        "colab": {}
      },
      "cell_type": "code",
      "source": [
        "# # Current working directory(directory which contains these jupyter notebook)\n",
        "# \"\"\"\n",
        "# Reads the current working directory and searches for the directory 'bbc'.\n",
        "# Every sub directory in directory 'bbc' is searched for .txt files.\n",
        "# Every .txt file is read and saved. The sub directory name containt the .txt file is used the label.\n",
        "# \"\"\"\n",
        "# filepath = os.path.join(os.getcwd(),\"/content/drive/My Drive/Colab Notebooks/bbc 2\")\n",
        "# articles = []\n",
        "# category_num = {}\n",
        "# count = 0\n",
        "# for item in os.listdir(filepath):\n",
        "#     category_num[item] = count\n",
        "#     count += 1\n",
        "#     if os.path.isdir(os.path.join(filepath,item)):\n",
        "#         sub_dir = os.path.join(filepath,item)\n",
        "#         files = [f for f in os.listdir(sub_dir) \n",
        "#          if os.path.isfile(os.path.join(sub_dir,f))]\n",
        "#         for file in files:\n",
        "#             with open(os.path.join(sub_dir,file), encoding='utf-8', errors='ignore') as text:\n",
        "#                 data = text.read()\n",
        "#                 paragraphs = data.split('\\n', -1)\n",
        "#                 title = paragraphs[0] + '. '\n",
        "#                 paragraphs[0] = title\n",
        "#                 data = ''.join(paragraphs)\n",
        "#                 articles.append((data,item))\n",
        "\n",
        "# data_df = pd.DataFrame(data=articles,columns=['Text',\"Category\"])"
      ],
      "execution_count": 0,
      "outputs": []
    },
    {
      "metadata": {
        "id": "bjWXOeRF5ZQP",
        "colab_type": "code",
        "outputId": "a4486c9c-e065-4027-a365-68add3b3ab17",
        "colab": {
          "base_uri": "https://localhost:8080/",
          "height": 881
        }
      },
      "cell_type": "code",
      "source": [
        "data_df.Category.value_counts(normalize=True).plot(kind='bar', grid=True, figsize=(16, 9))"
      ],
      "execution_count": 0,
      "outputs": [
        {
          "output_type": "execute_result",
          "data": {
            "text/plain": [
              "<matplotlib.axes._subplots.AxesSubplot at 0x7f1a5a340eb8>"
            ]
          },
          "metadata": {
            "tags": []
          },
          "execution_count": 45
        },
        {
          "output_type": "display_data",
          "data": {
            "image/png": "[encoded data removed]",
            "text/plain": [
              "<Figure size 1600x900 with 1 Axes>"
            ]
          },
          "metadata": {
            "tags": []
          }
        }
      ]
    },
    {
      "metadata": {
        "id": "WG5VOCNrhQlp",
        "colab_type": "code",
        "outputId": "ec81441f-2b4a-4370-9bb1-199502e82472",
        "colab": {
          "base_uri": "https://localhost:8080/",
          "height": 51
        }
      },
      "cell_type": "code",
      "source": [
        "# \"\"\"\n",
        "# Compute average number of words in each sentence and average number of sentences in each document.\n",
        "# \"\"\"\n",
        "# n_sent = 0\n",
        "# n_words = 0\n",
        "# for i in range(data_df.shape[0]):\n",
        "#     sent = tokenize.sent_tokenize(data_df.loc[i,'Text'])\n",
        "#     for satz in sent:\n",
        "#         n_words += len(tokenize.word_tokenize(satz))\n",
        "#     n_sent += len(sent)\n",
        "    \n",
        "# print(\"Average number of words in each sentence: \",round(n_words/n_sent))\n",
        "# print(\"Average number of sentences in each document: \", round(n_sent/data_df.shape[0]))"
      ],
      "execution_count": 0,
      "outputs": [
        {
          "output_type": "stream",
          "text": [
            "Average number of words in each sentence:  26\n",
            "Average number of sentences in each document:  17\n"
          ],
          "name": "stdout"
        }
      ]
    },
    {
      "metadata": {
        "id": "aLg9ok_V5poY",
        "colab_type": "code",
        "colab": {}
      },
      "cell_type": "code",
      "source": [
        "# data_df.to_excel(\"/content/drive/My Drive/Colab Notebooks/data_consolidated.xlsx\", index=False)"
      ],
      "execution_count": 0,
      "outputs": []
    },
    {
      "metadata": {
        "id": "QJcoBcWJhXQZ",
        "colab_type": "text"
      },
      "cell_type": "markdown",
      "source": [
        "# Parameters"
      ]
    },
    {
      "metadata": {
        "id": "DIMHviUDhQi1",
        "colab_type": "code",
        "colab": {}
      },
      "cell_type": "code",
      "source": [
        "\n",
        "MAX_FEATURES = 200000 # maximum number of unique words that should be included in the tokenized word index\n",
        "MAX_SENTENCE_NUM = 40 # maximum number of sentences in one document\n",
        "MAX_WORD_NUM = 50     # maximum number of words in each sentence\n",
        "EMBED_SIZE = 100      # vector size of word embedding"
      ],
      "execution_count": 0,
      "outputs": []
    },
    {
      "metadata": {
        "id": "pPTxoGI9hbWf",
        "colab_type": "text"
      },
      "cell_type": "markdown",
      "source": [
        "# Data Preprocessing"
      ]
    },
    {
      "metadata": {
        "id": "f597eW5JqrV2",
        "colab_type": "code",
        "colab": {}
      },
      "cell_type": "code",
      "source": [
        "data_cleaned = pd.read_excel('/content/drive/My Drive/Colab Notebooks/data_cleaned.xlsx')"
      ],
      "execution_count": 0,
      "outputs": []
    },
    {
      "metadata": {
        "id": "6SRU8H5KhQoE",
        "colab_type": "code",
        "outputId": "bd23409e-d7d1-4fbf-d473-8041fba16e47",
        "colab": {
          "base_uri": "https://localhost:8080/",
          "height": 235
        }
      },
      "cell_type": "code",
      "source": [
        "\"\"\"\n",
        "Cleans raw data using the cleanString() function from above.\n",
        "English stopwords are used from nltk library.\n",
        "Cleaned dataset is saved in 'data_cleaned' pandas dataframe.\n",
        "Labels are converted to numbers,\n",
        "\"\"\"\n",
        "articles = []\n",
        "n = data_df['Text'].shape[0]\n",
        "col_number = data_df.columns.get_loc('Text')\n",
        "stopWords = set(stopwords.words('english'))\n",
        "data_cleaned = data_df.copy()\n",
        "for i in range(n):\n",
        "    temp_string,idx_string = cleanString(data_df.iloc[i,col_number],stopWords)\n",
        "    articles.append(temp_string)\n",
        "    print(str(i+1)+' of '+str(n)+\" articles cleaned.\",end='\\r')\n",
        "    \n",
        "data_cleaned.loc[:,'Text'] = pd.Series(articles,index=data_df.index)\n",
        "data_cleaned.loc[:,'Category'] = pd.Categorical(data_cleaned.Category)\n",
        "data_cleaned['Code'] = data_cleaned.Category.cat.codes\n",
        "categoryToCode = dict( enumerate(data_cleaned['Category'].cat.categories))\n",
        "\n",
        "data_cleaned.head()"
      ],
      "execution_count": 0,
      "outputs": [
        {
          "output_type": "error",
          "ename": "NameError",
          "evalue": "ignored",
          "traceback": [
            "\u001b[0;31m---------------------------------------------------------------------------\u001b[0m",
            "\u001b[0;31mNameError\u001b[0m                                 Traceback (most recent call last)",
            "\u001b[0;32m<ipython-input-15-d10faf5f733b>\u001b[0m in \u001b[0;36m<module>\u001b[0;34m()\u001b[0m\n\u001b[1;32m      6\u001b[0m \"\"\"\n\u001b[1;32m      7\u001b[0m \u001b[0marticles\u001b[0m \u001b[0;34m=\u001b[0m \u001b[0;34m[\u001b[0m\u001b[0;34m]\u001b[0m\u001b[0;34m\u001b[0m\u001b[0;34m\u001b[0m\u001b[0m\n\u001b[0;32m----> 8\u001b[0;31m \u001b[0mn\u001b[0m \u001b[0;34m=\u001b[0m \u001b[0mdata_df\u001b[0m\u001b[0;34m[\u001b[0m\u001b[0;34m'Text'\u001b[0m\u001b[0;34m]\u001b[0m\u001b[0;34m.\u001b[0m\u001b[0mshape\u001b[0m\u001b[0;34m[\u001b[0m\u001b[0;36m0\u001b[0m\u001b[0;34m]\u001b[0m\u001b[0;34m\u001b[0m\u001b[0;34m\u001b[0m\u001b[0m\n\u001b[0m\u001b[1;32m      9\u001b[0m \u001b[0mcol_number\u001b[0m \u001b[0;34m=\u001b[0m \u001b[0mdata_df\u001b[0m\u001b[0;34m.\u001b[0m\u001b[0mcolumns\u001b[0m\u001b[0;34m.\u001b[0m\u001b[0mget_loc\u001b[0m\u001b[0;34m(\u001b[0m\u001b[0;34m'Text'\u001b[0m\u001b[0;34m)\u001b[0m\u001b[0;34m\u001b[0m\u001b[0;34m\u001b[0m\u001b[0m\n\u001b[1;32m     10\u001b[0m \u001b[0mstopWords\u001b[0m \u001b[0;34m=\u001b[0m \u001b[0mset\u001b[0m\u001b[0;34m(\u001b[0m\u001b[0mstopwords\u001b[0m\u001b[0;34m.\u001b[0m\u001b[0mwords\u001b[0m\u001b[0;34m(\u001b[0m\u001b[0;34m'english'\u001b[0m\u001b[0;34m)\u001b[0m\u001b[0;34m)\u001b[0m\u001b[0;34m\u001b[0m\u001b[0;34m\u001b[0m\u001b[0m\n",
            "\u001b[0;31mNameError\u001b[0m: name 'data_df' is not defined"
          ]
        }
      ]
    },
    {
      "metadata": {
        "id": "qiT2qEddql5A",
        "colab_type": "code",
        "colab": {}
      },
      "cell_type": "code",
      "source": [
        "# data_cleaned.to_excel(\"/content/drive/My Drive/Colab Notebooks/data_cleaned.xlsx\", index=False)"
      ],
      "execution_count": 0,
      "outputs": []
    },
    {
      "metadata": {
        "id": "bBJwo5Jphkg9",
        "colab_type": "text"
      },
      "cell_type": "markdown",
      "source": [
        "# Tokenisation"
      ]
    },
    {
      "metadata": {
        "id": "EtgtPrTlhQq8",
        "colab_type": "code",
        "colab": {}
      },
      "cell_type": "code",
      "source": [
        "\"\"\"\n",
        "Using the keras Tokenizer class a word index is built.\n",
        "The most 'MAX_FEATURES' used words are tokenized to a number.\n",
        "this dictionary is saved in word_index\n",
        "\"\"\"\n",
        "texts = []\n",
        "n = data_cleaned['Text'].shape[0]\n",
        "for i in range(n):\n",
        "    s = data_cleaned['Text'].iloc[i]\n",
        "    s = ' '.join([word.strip(string.punctuation) for word in s.split() if word.strip(string.punctuation) is not \"\"])\n",
        "    texts.append(s)\n",
        "tokenizer = Tokenizer(num_words=MAX_FEATURES,lower=True, oov_token=None)\n",
        "tokenizer.fit_on_texts(texts)\n",
        "word_index = tokenizer.word_index"
      ],
      "execution_count": 0,
      "outputs": []
    },
    {
      "metadata": {
        "id": "0qIBSuiehtn6",
        "colab_type": "text"
      },
      "cell_type": "markdown",
      "source": [
        "# GloVe Embedding Matrix"
      ]
    },
    {
      "metadata": {
        "id": "vNj5rWSBhQtk",
        "colab_type": "code",
        "outputId": "386597f7-7733-4d0f-ebc0-87d7f3b8b036",
        "colab": {
          "base_uri": "https://localhost:8080/",
          "height": 69
        }
      },
      "cell_type": "code",
      "source": [
        "\"\"\"\n",
        "A pre-trained word to vector is used from GloVe by Pennington et. al.\n",
        "Source: https://nlp.stanford.edu/projects/glove/\n",
        "The data was trained on wikipedia articles. Each word is described by a 100d vector.\n",
        "\"\"\"\n",
        "\n",
        "# Load word vectors from pre-trained dataset\n",
        "embeddings_index = {}\n",
        "f = open(os.path.join(os.getcwd(), '/content/drive/My Drive/Colab Notebooks/glove.6B.100d.txt'),encoding='UTF-8')\n",
        "for line in f:\n",
        "    values = line.split()\n",
        "    word = values[0]\n",
        "    coefs = np.asarray(values[1:], dtype='float32')\n",
        "    embeddings_index[word] = coefs\n",
        "f.close()\n",
        "print('Found %s word vectors.' % len(embeddings_index))\n",
        "\n",
        "# Search words in our word index in the pre-trained dataset\n",
        "# Create an embedding matrix for our bbc dataset\n",
        "min_wordCount = 0\n",
        "absent_words = 0\n",
        "small_words = 0\n",
        "embedding_matrix = np.zeros((len(word_index) + 1, EMBED_SIZE))\n",
        "word_counts = tokenizer.word_counts\n",
        "for word, i in word_index.items():\n",
        "    if word_counts[word] > min_wordCount:\n",
        "        embedding_vector = embeddings_index.get(word)\n",
        "        if embedding_vector is not None:\n",
        "            # words not found in embedding index will be all-zeros.\n",
        "            embedding_matrix[i] = embedding_vector\n",
        "        else:\n",
        "            absent_words += 1\n",
        "    else:\n",
        "        small_words += 1\n",
        "print('Total absent words are', absent_words, 'which is', \"%0.2f\" % (absent_words * 100 / len(word_index)),\n",
        "      '% of total words')\n",
        "print('Words with '+str(min_wordCount)+' or less mentions', small_words, 'which is', \"%0.2f\" % (small_words * 100 / len(word_index)),\n",
        "      '% of total words')"
      ],
      "execution_count": 0,
      "outputs": [
        {
          "output_type": "stream",
          "text": [
            "Found 400000 word vectors.\n",
            "Total absent words are 1409 which is 5.57 % of total words\n",
            "Words with 0 or less mentions 0 which is 0.00 % of total words\n"
          ],
          "name": "stdout"
        }
      ]
    },
    {
      "metadata": {
        "id": "8Wkd9yQJh--r",
        "colab_type": "text"
      },
      "cell_type": "markdown",
      "source": [
        "# Splitting Dataset"
      ]
    },
    {
      "metadata": {
        "id": "EBbSbMllh-NR",
        "colab_type": "code",
        "outputId": "84a33517-4e28-4a42-936a-46fbc9c3ec44",
        "colab": {
          "base_uri": "https://localhost:8080/",
          "height": 104
        }
      },
      "cell_type": "code",
      "source": [
        "\"\"\"\n",
        "Split Pandas Dataframe into train, validation and testset.\n",
        "Convert data to keras conforming form\n",
        "\"\"\"\n",
        "\n",
        "print(categoryToCode)\n",
        "train, validation, test = split_df(data_cleaned, 'Code',0.8,0.1,0.1)\n",
        "\n",
        "#Training\n",
        "paras = []\n",
        "for i in range(train['Text'].shape[0]):\n",
        "    sequence = wordToSeq(train['Text'].iloc[i],word_index,MAX_SENTENCE_NUM,MAX_WORD_NUM,MAX_FEATURES)\n",
        "    paras.append(sequence)\n",
        "x_train = np.array(paras)\n",
        "y_train = to_categorical(train['Code'],categoryToCode)\n",
        "\n",
        "#Validation\n",
        "paras = []\n",
        "for i in range(validation['Text'].shape[0]):\n",
        "    sequence = wordToSeq(validation['Text'].iloc[i],word_index,MAX_SENTENCE_NUM,MAX_WORD_NUM,MAX_FEATURES)\n",
        "    paras.append(sequence)\n",
        "x_val = np.array(paras)\n",
        "y_val = to_categorical(validation['Code'],categoryToCode)\n",
        "\n",
        "#Test\n",
        "paras = []\n",
        "for i in range(test['Text'].shape[0]):\n",
        "    sequence = wordToSeq(test['Text'].iloc[i],word_index,MAX_SENTENCE_NUM,MAX_WORD_NUM,MAX_FEATURES)\n",
        "    paras.append(sequence)\n",
        "x_test = np.array(paras)\n",
        "y_test = to_categorical(test['Code'],categoryToCode)"
      ],
      "execution_count": 0,
      "outputs": [
        {
          "output_type": "stream",
          "text": [
            "{0: 'business', 1: 'entertainment', 2: 'politics', 3: 'sport', 4: 'tech'}\n",
            "Total:  2277\n",
            "Training:  1822 , Percentage:  0.8001756697408872\n",
            "Validation:  227 , Percentage:  0.09969257795344752\n",
            "Test: 228 , Percentage:  0.10013175230566534\n"
          ],
          "name": "stdout"
        }
      ]
    },
    {
      "metadata": {
        "id": "MgVfXqcniKB1",
        "colab_type": "text"
      },
      "cell_type": "markdown",
      "source": [
        "# HAN Model"
      ]
    },
    {
      "metadata": {
        "id": "3-3YJNORhQwG",
        "colab_type": "code",
        "outputId": "100d303a-e78a-44c2-a3e1-3e429c29ac87",
        "colab": {
          "base_uri": "https://localhost:8080/",
          "height": 711
        }
      },
      "cell_type": "code",
      "source": [
        "\"\"\"\n",
        "Create Keras functional model for hierarchical attention network\n",
        "\"\"\"\n",
        "embedding_layer = Embedding(len(word_index) + 1,EMBED_SIZE,weights=[embedding_matrix], \n",
        "                            input_length=MAX_WORD_NUM, trainable=False,name='word_embedding')\n",
        "\n",
        "# Words level attention model\n",
        "word_input = Input(shape=(MAX_WORD_NUM,), dtype='int32',name='word_input')\n",
        "word_sequences = embedding_layer(word_input)\n",
        "word_gru = Bidirectional(GRU(50, return_sequences=True),name='word_gru')(word_sequences)\n",
        "word_dense = Dense(100, activation='relu', name='word_dense')(word_gru) \n",
        "word_att,word_coeffs = AttentionLayer(EMBED_SIZE,True,name='word_attention')(word_dense)\n",
        "wordEncoder = Model(inputs = word_input,outputs = word_att)\n",
        "\n",
        "# Sentence level attention model\n",
        "sent_input = Input(shape=(MAX_SENTENCE_NUM,MAX_WORD_NUM), dtype='int32',name='sent_input')\n",
        "sent_encoder = TimeDistributed(wordEncoder,name='sent_linking')(sent_input)\n",
        "sent_gru = Bidirectional(GRU(50, return_sequences=True),name='sent_gru')(sent_encoder)\n",
        "sent_dense = Dense(100, activation='relu', name='sent_dense')(sent_gru) \n",
        "sent_att,sent_coeffs = AttentionLayer(EMBED_SIZE,return_coefficients=True,name='sent_attention')(sent_dense)\n",
        "sent_drop = Dropout(0.5,name='sent_dropout')(sent_att)\n",
        "preds = Dense(5, activation='softmax',name='output')(sent_drop)\n",
        "\n",
        "# Model compile\n",
        "model = Model(sent_input, preds)\n",
        "model.compile(loss='categorical_crossentropy',optimizer='adam',metrics=['acc'])\n",
        "print(wordEncoder.summary())\n",
        "print(model.summary())\n",
        "\n",
        "plot_model(model, to_file='model.png',show_shapes=True)\n",
        "plot_model(wordEncoder, to_file='wordEncoder.png',show_shapes=True)"
      ],
      "execution_count": 0,
      "outputs": [
        {
          "output_type": "stream",
          "text": [
            "_________________________________________________________________\n",
            "Layer (type)                 Output Shape              Param #   \n",
            "=================================================================\n",
            "word_input (InputLayer)      (None, 50)                0         \n",
            "_________________________________________________________________\n",
            "word_embedding (Embedding)   (None, 50, 100)           2531300   \n",
            "_________________________________________________________________\n",
            "word_gru (Bidirectional)     (None, 50, 100)           45300     \n",
            "_________________________________________________________________\n",
            "word_dense (Dense)           (None, 50, 100)           10100     \n",
            "_________________________________________________________________\n",
            "word_attention (AttentionLay [(None, 100), (None, 100, 10200     \n",
            "=================================================================\n",
            "Total params: 2,596,900\n",
            "Trainable params: 65,600\n",
            "Non-trainable params: 2,531,300\n",
            "_________________________________________________________________\n",
            "None\n",
            "_________________________________________________________________\n",
            "Layer (type)                 Output Shape              Param #   \n",
            "=================================================================\n",
            "sent_input (InputLayer)      (None, 40, 50)            0         \n",
            "_________________________________________________________________\n",
            "sent_linking (TimeDistribute (None, 40, 100)           2596900   \n",
            "_________________________________________________________________\n",
            "sent_gru (Bidirectional)     (None, 40, 100)           45300     \n",
            "_________________________________________________________________\n",
            "sent_dense (Dense)           (None, 40, 100)           10100     \n",
            "_________________________________________________________________\n",
            "sent_attention (AttentionLay [(None, 100), (None, 100, 10200     \n",
            "_________________________________________________________________\n",
            "sent_dropout (Dropout)       (None, 100)               0         \n",
            "_________________________________________________________________\n",
            "output (Dense)               (None, 5)                 505       \n",
            "=================================================================\n",
            "Total params: 2,663,005\n",
            "Trainable params: 131,705\n",
            "Non-trainable params: 2,531,300\n",
            "_________________________________________________________________\n",
            "None\n"
          ],
          "name": "stdout"
        }
      ]
    },
    {
      "metadata": {
        "id": "_FwG7T5YiVIF",
        "colab_type": "text"
      },
      "cell_type": "markdown",
      "source": [
        "### Train"
      ]
    },
    {
      "metadata": {
        "id": "UF-vVYeLiJMO",
        "colab_type": "code",
        "outputId": "1e8a1f64-b3e5-42d9-cffe-0ad378f2a2af",
        "colab": {
          "base_uri": "https://localhost:8080/",
          "height": 1205
        }
      },
      "cell_type": "code",
      "source": [
        "history = model.fit(x_train, y_train, validation_data=(x_val, y_val), epochs=7, batch_size=50)\n",
        "\n",
        "print(history.history.keys())\n",
        "# Plot of accuracy in each epoch\n",
        "plt.plot(history.history['acc'])\n",
        "plt.plot(history.history['val_acc'])\n",
        "plt.title('model accuracy')\n",
        "plt.ylabel('accuracy')\n",
        "plt.xlabel('epoch')\n",
        "plt.legend(['train', 'validation'], loc='upper left')\n",
        "plt.show()\n",
        "# Plot of loss in each epoch\n",
        "plt.plot(history.history['loss'])\n",
        "plt.plot(history.history['val_loss'])\n",
        "plt.title('model loss')\n",
        "plt.ylabel('loss')\n",
        "plt.xlabel('epoch')\n",
        "plt.legend(['train', 'validation'], loc='upper left')\n",
        "plt.show()"
      ],
      "execution_count": 0,
      "outputs": [
        {
          "output_type": "stream",
          "text": [
            "Train on 1822 samples, validate on 227 samples\n",
            "Epoch 1/7\n",
            "1822/1822 [==============================] - 88s 48ms/step - loss: 1.1532 - acc: 0.5494 - val_loss: 0.4735 - val_acc: 0.8634\n",
            "Epoch 2/7\n",
            "1822/1822 [==============================] - 82s 45ms/step - loss: 0.2721 - acc: 0.9171 - val_loss: 0.1227 - val_acc: 0.9427\n",
            "Epoch 3/7\n",
            "1822/1822 [==============================] - 81s 45ms/step - loss: 0.1283 - acc: 0.9638 - val_loss: 0.1115 - val_acc: 0.9559\n",
            "Epoch 4/7\n",
            "1822/1822 [==============================] - 81s 45ms/step - loss: 0.0924 - acc: 0.9704 - val_loss: 0.1045 - val_acc: 0.9736\n",
            "Epoch 5/7\n",
            "1822/1822 [==============================] - 82s 45ms/step - loss: 0.0646 - acc: 0.9786 - val_loss: 0.1249 - val_acc: 0.9559\n",
            "Epoch 6/7\n",
            "1822/1822 [==============================] - 82s 45ms/step - loss: 0.0677 - acc: 0.9808 - val_loss: 0.0850 - val_acc: 0.9780\n",
            "Epoch 7/7\n",
            "1822/1822 [==============================] - 81s 45ms/step - loss: 0.0564 - acc: 0.9824 - val_loss: 0.0851 - val_acc: 0.9736\n",
            "dict_keys(['val_loss', 'val_acc', 'loss', 'acc'])\n"
          ],
          "name": "stdout"
        },
        {
          "output_type": "display_data",
          "data": {
            "image/png": "[encoded data removed]",
            "text/plain": [
              "<Figure size 640x480 with 1 Axes>"
            ]
          },
          "metadata": {
            "tags": []
          }
        },
        {
          "output_type": "display_data",
          "data": {
            "image/png": "[encoded data removed]",
            "text/plain": [
              "<Figure size 640x480 with 1 Axes>"
            ]
          },
          "metadata": {
            "tags": []
          }
        }
      ]
    },
    {
      "metadata": {
        "id": "DvLXEakWig-N",
        "colab_type": "text"
      },
      "cell_type": "markdown",
      "source": [
        "### Test"
      ]
    },
    {
      "metadata": {
        "id": "P7Ne9Z9fiJTW",
        "colab_type": "code",
        "outputId": "d8f9da40-e20e-4a5a-e550-1e9beeddef02",
        "colab": {
          "base_uri": "https://localhost:8080/",
          "height": 69
        }
      },
      "cell_type": "code",
      "source": [
        "loss, acc = model.evaluate(x_test,y_test)\n",
        "print(\"Test set accuracy: \",acc)\n",
        "print(\"Test set loss: \", loss)"
      ],
      "execution_count": 0,
      "outputs": [
        {
          "output_type": "stream",
          "text": [
            "228/228 [==============================] - 4s 18ms/step\n",
            "Test set accuracy:  0.9649122807017544\n",
            "Test set loss:  0.1406455621926988\n"
          ],
          "name": "stdout"
        }
      ]
    },
    {
      "metadata": {
        "id": "8aCgzabdiwyV",
        "colab_type": "text"
      },
      "cell_type": "markdown",
      "source": [
        "### Save Model"
      ]
    },
    {
      "metadata": {
        "id": "vpwm6TyxhQyx",
        "colab_type": "code",
        "colab": {}
      },
      "cell_type": "code",
      "source": [
        "# Saves the model in a hdf5 file\n",
        "model.save('/content/drive/My Drive/Colab Notebooks/Model_7epoch.h5')"
      ],
      "execution_count": 0,
      "outputs": []
    },
    {
      "metadata": {
        "id": "ilqjfJkLi4cR",
        "colab_type": "text"
      },
      "cell_type": "markdown",
      "source": [
        "# Application"
      ]
    },
    {
      "metadata": {
        "id": "t5184lvXhQ1k",
        "colab_type": "code",
        "outputId": "4b1bb964-4cf0-4666-e901-e98a65f40bd6",
        "colab": {
          "base_uri": "https://localhost:8080/",
          "height": 190
        }
      },
      "cell_type": "code",
      "source": [
        "# Load model from saved hdf5 file\n",
        "model = load_model('/content/drive/My Drive/Colab Notebooks/Model_7epoch.h5',custom_objects={'AttentionLayer': AttentionLayer})\n",
        "\n",
        "articleDB = pd.DataFrame(columns = ['Title','Summary','Text','Category','Tags'])"
      ],
      "execution_count": 0,
      "outputs": [
        {
          "output_type": "stream",
          "text": [
            "WARNING:tensorflow:From /usr/local/lib/python3.6/dist-packages/tensorflow/python/framework/op_def_library.py:263: colocate_with (from tensorflow.python.framework.ops) is deprecated and will be removed in a future version.\n",
            "Instructions for updating:\n",
            "Colocations handled automatically by placer.\n",
            "WARNING:tensorflow:From /usr/local/lib/python3.6/dist-packages/keras/backend/tensorflow_backend.py:3445: calling dropout (from tensorflow.python.ops.nn_ops) with keep_prob is deprecated and will be removed in a future version.\n",
            "Instructions for updating:\n",
            "Please use `rate` instead of `keep_prob`. Rate should be set to `rate = 1 - keep_prob`.\n",
            "WARNING:tensorflow:From /usr/local/lib/python3.6/dist-packages/tensorflow/python/ops/math_ops.py:3066: to_int32 (from tensorflow.python.ops.math_ops) is deprecated and will be removed in a future version.\n",
            "Instructions for updating:\n",
            "Use tf.cast instead.\n"
          ],
          "name": "stdout"
        }
      ]
    },
    {
      "metadata": {
        "id": "FDw1KBVzZGRK",
        "colab_type": "code",
        "outputId": "1ad3f507-1b9f-497e-e1dc-22c7fe56f949",
        "colab": {
          "base_uri": "https://localhost:8080/",
          "height": 49
        }
      },
      "cell_type": "code",
      "source": [
        "articleDB.head()"
      ],
      "execution_count": 0,
      "outputs": [
        {
          "output_type": "execute_result",
          "data": {
            "text/html": [
              "<div>\n",
              "<style scoped>\n",
              "    .dataframe tbody tr th:only-of-type {\n",
              "        vertical-align: middle;\n",
              "    }\n",
              "\n",
              "    .dataframe tbody tr th {\n",
              "        vertical-align: top;\n",
              "    }\n",
              "\n",
              "    .dataframe thead th {\n",
              "        text-align: right;\n",
              "    }\n",
              "</style>\n",
              "<table border=\"1\" class=\"dataframe\">\n",
              "  <thead>\n",
              "    <tr style=\"text-align: right;\">\n",
              "      <th></th>\n",
              "      <th>Title</th>\n",
              "      <th>Summary</th>\n",
              "      <th>Text</th>\n",
              "      <th>Category</th>\n",
              "      <th>Tags</th>\n",
              "    </tr>\n",
              "  </thead>\n",
              "  <tbody>\n",
              "  </tbody>\n",
              "</table>\n",
              "</div>"
            ],
            "text/plain": [
              "Empty DataFrame\n",
              "Columns: [Title, Summary, Text, Category, Tags]\n",
              "Index: []"
            ]
          },
          "metadata": {
            "tags": []
          },
          "execution_count": 8
        }
      ]
    },
    {
      "metadata": {
        "id": "uT5jHGfpjFQs",
        "colab_type": "text"
      },
      "cell_type": "markdown",
      "source": [
        "### Input"
      ]
    },
    {
      "metadata": {
        "id": "Au3Y6H0mhQ4S",
        "colab_type": "code",
        "outputId": "205ed798-179f-4f5b-8734-1cf05d3dde00",
        "colab": {
          "base_uri": "https://localhost:8080/",
          "height": 269
        }
      },
      "cell_type": "code",
      "source": [
        "# Input url of interested article\n",
        "#article_url = 'https://www.bbc.com/news/business-47068401'\n",
        "#article_url = 'https://www.bbc.com/news/technology-47071334'\n",
        "#article_url = 'https://www.bbc.com/news/entertainment-arts-39083228'\n",
        "article_url = 'https://www.bbc.com/news/newsbeat-47069144'\n",
        "page = requests.get(article_url) \n",
        "soup = BeautifulSoup(page.content,'lxml')\n",
        "\n",
        "# Get title\n",
        "articlebody = soup.find(\"div\", {\"class\": \"story-body\"})\n",
        "article_title = soup.find(\"h1\",{\"class\":\"story-body__h1\"}).text\n",
        "print(article_title)\n",
        "\n",
        "# Get news article\n",
        "story = soup.find(\"div\", {\"class\": \"story-body__inner\"}).findAll('p')\n",
        "article = []\n",
        "for p in story:\n",
        "    p_class = p.get('class')\n",
        "    if p_class:\n",
        "        no_twite = [x for x in p_class if \"twite\" not in x]\n",
        "        no_intro = [x for x in p_class if \"story-body__introduction\" not in x]\n",
        "        if no_twite and no_intro:\n",
        "            article.append(p.text)\n",
        "    else:\n",
        "        article.append(p.text)\n",
        "article = ' '.join(article)\n",
        "print(article)\n",
        "\n",
        "# Clean article with pre described rules\n",
        "article_cleaned,idx_list = cleanString(article,stopWords)\n",
        "input_array = wordToSeq(article_cleaned,word_index,MAX_SENTENCE_NUM,MAX_WORD_NUM,MAX_FEATURES)"
      ],
      "execution_count": 0,
      "outputs": [
        {
          "output_type": "stream",
          "text": [
            "Women in film: 'We're living in the dark ages when it comes to representation'\n",
            "That's the norm when it comes to Hollywood's biggest films, according to US campaign group, Time's Up. They've shared figures which reveal only 4% of the biggest earning films from the past decade have been directed by women. And now they're calling on Hollywood studios and stars to change that. Time's Up has launched the #4percentchallenge, and stars Tessa Thompson, Brie Larson and Bryce Dallas Howard are among the names to lend their support. Time's Up's campaign to draw attention to this inequality has been welcomed by rising female film talent here in the UK. \"Four percent is a pretty depressing figure, but things like this challenge are absolutely necessary,\" British director Georgia Parris told Radio 1 Newsbeat. She premiered her first full-length film, Mari, at the BFI Film Festival. \"It's that age-old problem that women are hired on experience and men are hired on potential. \"So if we're not being given the opportunities to gain that experience then how is the problem ever going to change?\" But she says the success of 2017's Wonder Woman is an early sign that things are starting to change. \"I think there's a sense that women tend to direct sensitive, female-based issue films but these are the ones that tend to cost less money,\" she adds. \"But you look at something like Wonder Woman and that's done hugely well. \"We're starting to see those snippets of women being trusted with bigger budgets.\" Movements like the #4percentchallenge are inspiring confidence in future movie-makers, such as film student and aspiring director Beatrice Sutcliffe. \"We're living in the dark ages when it comes to representation in film and the films that are being made,\" Beatrice tells Newsbeat.  \"We need to try and give women more of a spotlight because it's so unequal.\" \"I'm passionate about breaking through that.\" Alongside a more \"truthful depiction of women,\" Beatrice says she wants to see an end to male-directed films using women's bodies as a punchline. \"I want to see a film where a woman actually has her period and it doesn't stop her,\" she says. \"That's raw, that's real, that's what women are going through. At the end of the day, when a woman is having a period in a film, it tends to be as a comical gag. \"A female director can bring that raw, truthful depiction of women.\" Time's Up claims movies directed by women are more inclusive for girls and women, female characters over 40 and racial and ethnic groups. \"Women directors also hire other women in key behind-the-camera roles,\" it says in a statement.  \"The aim is to humanize production processes so that all groups can thrive at work in safe contexts.\" They're asking actors to commit to working with a female director in the next 18 months. Already, a number of well known actors have signed up to support the campaign. A list of supporters on the Time's Up's website includes Amy Schumer, Armie Hammer, Jordan Peele, Jussie Smollett, Reese Witherspoon and Zazie Beetz - among many others. Efforts have been made in the UK to raise female representation, such as 38% of the films screened at the 2018 BFI Film Festival (a major London event) being directed by women. Film studios such as JJ Abrams' Bad Robot, Universal and Disney have also signed up to support the #4percentchallenge, and Disney CEO Bob Iger claims his company is already making big steps toward better female representation in the director's chair. Many have contacted us about accepting the 4% challenge, but I’m proud to say 40% of @DisneyStudios’ upcoming movie slate is being directed by women and we are striving for more! End of Twitter post  by @RobertIger Among comments of support for Disney's stance, some say they just want studios to \"hire the best person for the job,\" regardless of gender. But Georgia says storytellers need to represent society more than this viewpoint suggests. \"Men can direct beautifully - sensitive and feminine stories as well. But at the end of the day, if we're only ever given one viewpoint, a male viewpoint, that is not representative of the world that we live in,\" she says. \"We just have to have a variation of women telling those stories as well to get a more equal balance.\" Disney's next big Marvel movie, Captain Marvel, has two directors - one woman, one man (Anna Boden and Ryan Fleck). \"With Captain Marvel coming, I think it's a really important time for female directors, especially those who want to work in the big mainstream Hollywood stuff to come forward and really fight to do that work,\" says Beatrice. Many of Disney's biggest franchise films currently in production - such as Avengers: Endgame, Aladdin, Toy Story 4, Star Wars IX and The Lion King are all directed by men. However, other Disney films such as Marvel films The Eternals and Black Widow and the Mulan remake all have female directors. Follow Newsbeat on Instagram, Facebook and Twitter.  Listen to Newsbeat live at 12:45 and 17:45 every weekday on BBC Radio 1 and 1Xtra - if you miss us you can listen back here. \n"
          ],
          "name": "stdout"
        },
        {
          "output_type": "error",
          "ename": "NameError",
          "evalue": "ignored",
          "traceback": [
            "\u001b[0;31m---------------------------------------------------------------------------\u001b[0m",
            "\u001b[0;31mNameError\u001b[0m                                 Traceback (most recent call last)",
            "\u001b[0;32m<ipython-input-9-a784714cfd31>\u001b[0m in \u001b[0;36m<module>\u001b[0;34m()\u001b[0m\n\u001b[1;32m     24\u001b[0m \u001b[0;34m\u001b[0m\u001b[0m\n\u001b[1;32m     25\u001b[0m \u001b[0;31m# Clean article with pre described rules\u001b[0m\u001b[0;34m\u001b[0m\u001b[0;34m\u001b[0m\u001b[0;34m\u001b[0m\u001b[0m\n\u001b[0;32m---> 26\u001b[0;31m \u001b[0marticle_cleaned\u001b[0m\u001b[0;34m,\u001b[0m\u001b[0midx_list\u001b[0m \u001b[0;34m=\u001b[0m \u001b[0mcleanString\u001b[0m\u001b[0;34m(\u001b[0m\u001b[0marticle\u001b[0m\u001b[0;34m,\u001b[0m\u001b[0mstopWords\u001b[0m\u001b[0;34m)\u001b[0m\u001b[0;34m\u001b[0m\u001b[0;34m\u001b[0m\u001b[0m\n\u001b[0m\u001b[1;32m     27\u001b[0m \u001b[0minput_array\u001b[0m \u001b[0;34m=\u001b[0m \u001b[0mwordToSeq\u001b[0m\u001b[0;34m(\u001b[0m\u001b[0marticle_cleaned\u001b[0m\u001b[0;34m,\u001b[0m\u001b[0mword_index\u001b[0m\u001b[0;34m,\u001b[0m\u001b[0mMAX_SENTENCE_NUM\u001b[0m\u001b[0;34m,\u001b[0m\u001b[0mMAX_WORD_NUM\u001b[0m\u001b[0;34m,\u001b[0m\u001b[0mMAX_FEATURES\u001b[0m\u001b[0;34m)\u001b[0m\u001b[0;34m\u001b[0m\u001b[0;34m\u001b[0m\u001b[0m\n",
            "\u001b[0;31mNameError\u001b[0m: name 'cleanString' is not defined"
          ]
        }
      ]
    },
    {
      "metadata": {
        "id": "PyXlsyhWjSVl",
        "colab_type": "text"
      },
      "cell_type": "markdown",
      "source": [
        "### Sentence Attention Word"
      ]
    },
    {
      "metadata": {
        "id": "G21OwE6zjDxi",
        "colab_type": "code",
        "colab": {}
      },
      "cell_type": "code",
      "source": [
        "sent_att_weights = Model(inputs=sent_input,outputs=sent_coeffs)\n",
        "output_array = sent_att_weights.predict(np.resize(input_array,(1,MAX_SENTENCE_NUM,MAX_WORD_NUM)))\n",
        "\n",
        "# Get n sentences with most attention in document\n",
        "n_sentences = 15\n",
        "sent_index = output_array.flatten().argsort()[-n_sentences:]\n",
        "sent_index = np.sort(sent_index)\n",
        "sent_index = sent_index.tolist()\n",
        "\n",
        "# Create summary using n sentences\n",
        "sent_list = tokenize.sent_tokenize(article)\n",
        "summary = [sent_list[i] for i in sent_index]"
      ],
      "execution_count": 0,
      "outputs": []
    },
    {
      "metadata": {
        "id": "66PPxY0bjZLs",
        "colab_type": "text"
      },
      "cell_type": "markdown",
      "source": [
        "### Word Attention Model"
      ]
    },
    {
      "metadata": {
        "id": "ZwqrAQ0DjD0s",
        "colab_type": "code",
        "colab": {}
      },
      "cell_type": "code",
      "source": [
        "def wordAttentionWeights(sequenceSentence,weights):\n",
        "    \"\"\"\n",
        "    The same function as the AttentionLayer class.\n",
        "    \"\"\"\n",
        "    uit = np.dot(sequenceSentence, weights[0]) + weights[1]\n",
        "    uit = np.tanh(uit)\n",
        "\n",
        "    ait = np.dot(uit, weights[2])\n",
        "    ait = np.squeeze(ait)\n",
        "    ait = np.exp(ait)\n",
        "    ait /= np.sum(ait)\n",
        "    \n",
        "    return ait\n",
        "\n",
        "# Summary as input for word attention\n",
        "summary_cleaned, summary_idx = cleanString(' '.join(summary),stopWords)\n",
        "word_input_array = wordToSeq(summary_cleaned,word_index,MAX_SENTENCE_NUM,MAX_WORD_NUM,MAX_FEATURES)\n",
        "\n",
        "# Create model from word input to output of dense layer right before the attention layer\n",
        "hidden_word_encoding_out = Model(inputs=wordEncoder.input, outputs=wordEncoder.get_layer('word_dense').output)\n",
        "# Load weights from trained attention layer\n",
        "word_context = wordEncoder.get_layer('word_attention').get_weights()\n",
        "# Compute output of dense layer\n",
        "hidden_word_encodings = hidden_word_encoding_out.predict(word_input_array)\n",
        "# Compute context vector using output of dense layer\n",
        "ait = wordAttentionWeights(hidden_word_encodings,word_context)"
      ],
      "execution_count": 0,
      "outputs": []
    },
    {
      "metadata": {
        "id": "UYOG8EBsjD3t",
        "colab_type": "code",
        "colab": {}
      },
      "cell_type": "code",
      "source": [
        "# Get n words with most attention in document\n",
        "n_words = 15\n",
        "\n",
        "flattenlist = []\n",
        "words_unpadded = []\n",
        "for idx,sent in enumerate(tokenize.sent_tokenize(summary_cleaned)):\n",
        "    if(idx>=MAX_SENTENCE_NUM):\n",
        "        break\n",
        "    attword_list = tokenize.word_tokenize(sent.rstrip('.'))\n",
        "    ait_short = (1000*ait[idx][:len(attword_list)]).tolist()\n",
        "    words_unpadded.extend(ait_short)\n",
        "    flattenlist.extend(attword_list)\n",
        "\n",
        "    \n",
        "words_unpadded = np.array(words_unpadded)\n",
        "sorted_wordlist = [flattenlist[i] for i in words_unpadded.argsort()]\n",
        "\n",
        "mostAtt_words = []\n",
        "i = 0\n",
        "for word in reversed(sorted_wordlist):\n",
        "    if word not in mostAtt_words:\n",
        "        mostAtt_words.append(word)\n",
        "        i += 1\n",
        "    if(i>=n_words):\n",
        "        break"
      ],
      "execution_count": 0,
      "outputs": []
    },
    {
      "metadata": {
        "id": "bXIc9BLPjmf8",
        "colab_type": "text"
      },
      "cell_type": "markdown",
      "source": [
        "### Output"
      ]
    },
    {
      "metadata": {
        "id": "wuq6beJmhQ7W",
        "colab_type": "code",
        "outputId": "404815d7-82ce-4d64-88ef-c13b06b9bb9a",
        "colab": {
          "base_uri": "https://localhost:8080/",
          "height": 211
        }
      },
      "cell_type": "code",
      "source": [
        "#Category\n",
        "res = model.predict(np.expand_dims(input_array,axis=0)).flatten()\n",
        "cat = categoryToCode[np.argmax(res.flatten())]\n",
        "\n",
        "# Display information\n",
        "display(HTML('<h2>'+article_title.rstrip('.')+'</h2>'))\n",
        "print(cat, mostAtt_words)\n",
        "\n",
        "display(HTML('<h5>Summary of article:</h5>'))\n",
        "display(' '.join(summary))\n",
        "\n",
        "display(HTML('<h5>Full text:</h5>'))\n",
        "display(article)"
      ],
      "execution_count": 0,
      "outputs": [
        {
          "output_type": "display_data",
          "data": {
            "text/html": [
              "<h2>Women in film: 'We're living in the dark ages when it comes to representation'</h2>"
            ],
            "text/plain": [
              "<IPython.core.display.HTML object>"
            ]
          },
          "metadata": {
            "tags": []
          }
        },
        {
          "output_type": "stream",
          "text": [
            "entertainment ['film', 'mari', 'bfi', 'premiered', 'movie', 'website', 'see', 'actor', 'studio', 'directed', 'future', 'girl', 'first', 'hollywood', 'star']\n"
          ],
          "name": "stdout"
        },
        {
          "output_type": "display_data",
          "data": {
            "text/html": [
              "<h5>Summary of article:</h5>"
            ],
            "text/plain": [
              "<IPython.core.display.HTML object>"
            ]
          },
          "metadata": {
            "tags": []
          }
        },
        {
          "output_type": "display_data",
          "data": {
            "text/plain": [
              "'They\\'ve shared figures which reveal only 4% of the biggest earning films from the past decade have been directed by women. And now they\\'re calling on Hollywood studios and stars to change that. Time\\'s Up\\'s campaign to draw attention to this inequality has been welcomed by rising female film talent here in the UK. She premiered her first full-length film, Mari, at the BFI Film Festival. Movements like the #4percentchallenge are inspiring confidence in future movie-makers, such as film student and aspiring director Beatrice Sutcliffe. \"We\\'re living in the dark ages when it comes to representation in film and the films that are being made,\" Beatrice tells Newsbeat. Alongside a more \"truthful depiction of women,\" Beatrice says she wants to see an end to male-directed films using women\\'s bodies as a punchline. \"I want to see a film where a woman actually has her period and it doesn\\'t stop her,\" she says. At the end of the day, when a woman is having a period in a film, it tends to be as a comical gag. \"A female director can bring that raw, truthful depiction of women.\" Time\\'s Up claims movies directed by women are more inclusive for girls and women, female characters over 40 and racial and ethnic groups. They\\'re asking actors to commit to working with a female director in the next 18 months. Already, a number of well known actors have signed up to support the campaign. A list of supporters on the Time\\'s Up\\'s website includes Amy Schumer, Armie Hammer, Jordan Peele, Jussie Smollett, Reese Witherspoon and Zazie Beetz - among many others. Efforts have been made in the UK to raise female representation, such as 38% of the films screened at the 2018 BFI Film Festival (a major London event) being directed by women.'"
            ]
          },
          "metadata": {
            "tags": []
          }
        },
        {
          "output_type": "display_data",
          "data": {
            "text/html": [
              "<h5>Full text:</h5>"
            ],
            "text/plain": [
              "<IPython.core.display.HTML object>"
            ]
          },
          "metadata": {
            "tags": []
          }
        },
        {
          "output_type": "display_data",
          "data": {
            "text/plain": [
              "'That\\'s the norm when it comes to Hollywood\\'s biggest films, according to US campaign group, Time\\'s Up. They\\'ve shared figures which reveal only 4% of the biggest earning films from the past decade have been directed by women. And now they\\'re calling on Hollywood studios and stars to change that. Time\\'s Up has launched the #4percentchallenge, and stars Tessa Thompson, Brie Larson and Bryce Dallas Howard are among the names to lend their support. Time\\'s Up\\'s campaign to draw attention to this inequality has been welcomed by rising female film talent here in the UK. \"Four percent is a pretty depressing figure, but things like this challenge are absolutely necessary,\" British director Georgia Parris told Radio 1 Newsbeat. She premiered her first full-length film, Mari, at the BFI Film Festival. \"It\\'s that age-old problem that women are hired on experience and men are hired on potential. \"So if we\\'re not being given the opportunities to gain that experience then how is the problem ever going to change?\" But she says the success of 2017\\'s Wonder Woman is an early sign that things are starting to change. \"I think there\\'s a sense that women tend to direct sensitive, female-based issue films but these are the ones that tend to cost less money,\" she adds. \"But you look at something like Wonder Woman and that\\'s done hugely well. \"We\\'re starting to see those snippets of women being trusted with bigger budgets.\" Movements like the #4percentchallenge are inspiring confidence in future movie-makers, such as film student and aspiring director Beatrice Sutcliffe. \"We\\'re living in the dark ages when it comes to representation in film and the films that are being made,\" Beatrice tells Newsbeat.  \"We need to try and give women more of a spotlight because it\\'s so unequal.\" \"I\\'m passionate about breaking through that.\" Alongside a more \"truthful depiction of women,\" Beatrice says she wants to see an end to male-directed films using women\\'s bodies as a punchline. \"I want to see a film where a woman actually has her period and it doesn\\'t stop her,\" she says. \"That\\'s raw, that\\'s real, that\\'s what women are going through. At the end of the day, when a woman is having a period in a film, it tends to be as a comical gag. \"A female director can bring that raw, truthful depiction of women.\" Time\\'s Up claims movies directed by women are more inclusive for girls and women, female characters over 40 and racial and ethnic groups. \"Women directors also hire other women in key behind-the-camera roles,\" it says in a statement.  \"The aim is to humanize production processes so that all groups can thrive at work in safe contexts.\" They\\'re asking actors to commit to working with a female director in the next 18 months. Already, a number of well known actors have signed up to support the campaign. A list of supporters on the Time\\'s Up\\'s website includes Amy Schumer, Armie Hammer, Jordan Peele, Jussie Smollett, Reese Witherspoon and Zazie Beetz - among many others. Efforts have been made in the UK to raise female representation, such as 38% of the films screened at the 2018 BFI Film Festival (a major London event) being directed by women. Film studios such as JJ Abrams\\' Bad Robot, Universal and Disney have also signed up to support the #4percentchallenge, and Disney CEO Bob Iger claims his company is already making big steps toward better female representation in the director\\'s chair. Among comments of support for Disney\\'s stance, some say they just want studios to \"hire the best person for the job,\" regardless of gender. But Georgia says storytellers need to represent society more than this viewpoint suggests. \"Men can direct beautifully - sensitive and feminine stories as well. But at the end of the day, if we\\'re only ever given one viewpoint, a male viewpoint, that is not representative of the world that we live in,\" she says. \"We just have to have a variation of women telling those stories as well to get a more equal balance.\" Disney\\'s next big Marvel movie, Captain Marvel, has two directors - one woman, one man (Anna Boden and Ryan Fleck). \"With Captain Marvel coming, I think it\\'s a really important time for female directors, especially those who want to work in the big mainstream Hollywood stuff to come forward and really fight to do that work,\" says Beatrice. Many of Disney\\'s biggest franchise films currently in production - such as Avengers: Endgame, Aladdin, Toy Story 4, Star Wars IX and The Lion King are all directed by men. However, other Disney films such as Marvel films The Eternals and Black Widow and the Mulan remake all have female directors. Follow Newsbeat on Instagram, Facebook and Twitter.  Listen to Newsbeat live at 12:45 and 17:45 every weekday on BBC Radio 1 and 1Xtra - if you miss us you can listen back here. '"
            ]
          },
          "metadata": {
            "tags": []
          }
        }
      ]
    },
    {
      "metadata": {
        "id": "e_rBYR123EK8",
        "colab_type": "code",
        "outputId": "3a468456-a8a7-45fe-c72b-76084e3c64a9",
        "colab": {
          "base_uri": "https://localhost:8080/",
          "height": 52
        }
      },
      "cell_type": "code",
      "source": [
        "print(res)\n",
        "print(categoryToCode)"
      ],
      "execution_count": 0,
      "outputs": [
        {
          "output_type": "stream",
          "text": [
            "[8.9238511e-06 9.9986887e-01 4.3591226e-05 4.2577944e-05 3.5963330e-05]\n",
            "{0: 'business', 1: 'entertainment', 2: 'politics', 3: 'sport', 4: 'tech'}\n"
          ],
          "name": "stdout"
        }
      ]
    },
    {
      "metadata": {
        "id": "eYARZqqc3O8N",
        "colab_type": "code",
        "outputId": "8fb28a9b-ec70-4988-e72a-eede4180bf2a",
        "colab": {
          "base_uri": "https://localhost:8080/",
          "height": 453
        }
      },
      "cell_type": "code",
      "source": [
        "import matplotlib.pyplot as plt; plt.rcdefaults()\n",
        "import numpy as np\n",
        "import matplotlib.pyplot as plt\n",
        " \n",
        "objects = [v for k, v in categoryToCode.items()]\n",
        "y_pos = np.arange(len(objects))\n",
        "performance = res\n",
        " \n",
        "plt.bar(y_pos, performance, align='center', alpha=0.5)\n",
        "plt.xticks(y_pos, objects)\n",
        "plt.title('Category')\n",
        " \n",
        "plt.show()"
      ],
      "execution_count": 0,
      "outputs": [
        {
          "output_type": "display_data",
          "data": {
            "image/png": "[encoded data removed]",
            "text/plain": [
              "<Figure size 640x480 with 1 Axes>"
            ]
          },
          "metadata": {
            "tags": []
          }
        }
      ]
    },
    {
      "metadata": {
        "id": "36P-BbOEARGX",
        "colab_type": "code",
        "outputId": "6e103e6c-f802-424e-93b4-ef07b0fe7dff",
        "colab": {
          "base_uri": "https://localhost:8080/",
          "height": 34
        }
      },
      "cell_type": "code",
      "source": [
        "x_train.shape[0]"
      ],
      "execution_count": 0,
      "outputs": [
        {
          "output_type": "execute_result",
          "data": {
            "text/plain": [
              "1822"
            ]
          },
          "metadata": {
            "tags": []
          },
          "execution_count": 35
        }
      ]
    },
    {
      "metadata": {
        "id": "C6w83SkdARJO",
        "colab_type": "code",
        "outputId": "8f3dc69b-7799-4198-fe49-d4c1cb1c61cd",
        "colab": {
          "base_uri": "https://localhost:8080/",
          "height": 34
        }
      },
      "cell_type": "code",
      "source": [
        "for position in x_train.shape[0]:\n",
        "  x_train[position]"
      ],
      "execution_count": 0,
      "outputs": [
        {
          "output_type": "execute_result",
          "data": {
            "text/plain": [
              "(1, 40, 50)"
            ]
          },
          "metadata": {
            "tags": []
          },
          "execution_count": 51
        }
      ]
    },
    {
      "metadata": {
        "id": "ssyzDOfEARML",
        "colab_type": "code",
        "outputId": "0364f7f4-a6b2-4a09-c973-91bf4ba0f349",
        "colab": {
          "base_uri": "https://localhost:8080/",
          "height": 156
        }
      },
      "cell_type": "code",
      "source": [
        "from sklearn.manifold import TSNE\n",
        "import pandas as pd\n",
        "\n",
        "tsne_model = TSNE(n_components=2, verbose=1, random_state=0, n_iter=500)\n",
        "tsne_tfidf = tsne_model.fit_transform(x_train[1])\n",
        "print(tsne_tfidf.shape)\n",
        "tsne_tfidf_df = pd.DataFrame(tsne_tfidf)\n",
        "tsne_tfidf_df.columns = ['x', 'y']"
      ],
      "execution_count": 0,
      "outputs": [
        {
          "output_type": "stream",
          "text": [
            "[t-SNE] Computing 39 nearest neighbors...\n",
            "[t-SNE] Indexed 40 samples in 0.000s...\n",
            "[t-SNE] Computed neighbors for 40 samples in 0.002s...\n",
            "[t-SNE] Computed conditional probabilities for sample 40 / 40\n",
            "[t-SNE] Mean sigma: 1.135924\n",
            "[t-SNE] KL divergence after 250 iterations with early exaggeration: 47.552994\n",
            "[t-SNE] KL divergence after 500 iterations: 0.583712\n",
            "(40, 2)\n"
          ],
          "name": "stdout"
        }
      ]
    },
    {
      "metadata": {
        "id": "KRYCSzftAIZS",
        "colab_type": "text"
      },
      "cell_type": "markdown",
      "source": [
        "# Essai - My text"
      ]
    },
    {
      "metadata": {
        "id": "_PVfYvSxAHb4",
        "colab_type": "code",
        "outputId": "aecdbf4b-a3b0-423d-bdba-ed5314bc531b",
        "colab": {
          "base_uri": "https://localhost:8080/",
          "height": 193
        }
      },
      "cell_type": "code",
      "source": [
        "# Load model from saved hdf5 file\n",
        "model = load_model('/content/drive/My Drive/Colab Notebooks/Model_7epoch.h5',custom_objects={'AttentionLayer': AttentionLayer})"
      ],
      "execution_count": 0,
      "outputs": [
        {
          "output_type": "stream",
          "text": [
            "WARNING:tensorflow:From /usr/local/lib/python3.6/dist-packages/tensorflow/python/framework/op_def_library.py:263: colocate_with (from tensorflow.python.framework.ops) is deprecated and will be removed in a future version.\n",
            "Instructions for updating:\n",
            "Colocations handled automatically by placer.\n",
            "WARNING:tensorflow:From /usr/local/lib/python3.6/dist-packages/keras/backend/tensorflow_backend.py:3445: calling dropout (from tensorflow.python.ops.nn_ops) with keep_prob is deprecated and will be removed in a future version.\n",
            "Instructions for updating:\n",
            "Please use `rate` instead of `keep_prob`. Rate should be set to `rate = 1 - keep_prob`.\n",
            "WARNING:tensorflow:From /usr/local/lib/python3.6/dist-packages/tensorflow/python/ops/math_ops.py:3066: to_int32 (from tensorflow.python.ops.math_ops) is deprecated and will be removed in a future version.\n",
            "Instructions for updating:\n",
            "Use tf.cast instead.\n"
          ],
          "name": "stdout"
        }
      ]
    },
    {
      "metadata": {
        "id": "I4huUt5BAHaG",
        "colab_type": "code",
        "colab": {}
      },
      "cell_type": "code",
      "source": [
        "adrien_text = '''Share prices for the British drugmaker Indivior plunged today on the London Stock Exchange. The drop came on news that the U.S. Justice Department indicted the company on fraud and conspiracy charges. Indivior makes the drug Suboxone, widely used to treat people suffering from opioid addiction. Federal prosecutors now claim the company falsely marketed Suboxone as safer and less prone to abuse than cheaper generic drugs. North Country Public Radio's Brian Mann reports.\n",
        "\n",
        "BRIAN MANN, BYLINE: The 28-count indictment filed in a Virginia court claims Indivior executives lied when they claimed dissolvable Suboxone films placed under the tongue would be safer, harder to misuse than generic tablets that were about to come on the market. Government investigators say, in some cases, Indivior's version of the drug was more risky. The indictment claims taxpayer-funded programs like Medicare and Medicaid were cheated out of billions of dollars. Justice Department officials declined NPR's request for an interview. Robert Bird is a professor of business law at the University of Connecticut who follows opioid cases closely. He says this criminal indictment sends a powerful signal to a drug industry already snared in the opioid addiction crisis.\n",
        "\n",
        "ROBERT BIRD: Not only the companies that are being indicted but also other organizations and competitors who will look at these prosecutions and say, I don't want this to happen to me.\n",
        "\n",
        "MANN: Indivior executives also declined to be interviewed by NPR. But company spokesperson Jennifer Ginther read from a prepared statement, denying any wrongdoing and describing the federal indictment as misguided.\n",
        "\n",
        "JENNIFER GINTHER: Indivior's top priority has always been the treatment of patients struggling with opioid addiction. No other company has done more to fight the opioid crisis.'''"
      ],
      "execution_count": 0,
      "outputs": []
    },
    {
      "metadata": {
        "id": "_DbMcS8rAQ5u",
        "colab_type": "code",
        "colab": {}
      },
      "cell_type": "code",
      "source": [
        "# Clean article with pre described rules\n",
        "stopWords = set(stopwords.words('english'))\n",
        "article_cleaned_adrien, idx_list = cleanString(adrien_text,stopWords)\n",
        "input_array = wordToSeq(article_cleaned_adrien,word_index,MAX_SENTENCE_NUM,MAX_WORD_NUM,MAX_FEATURES)"
      ],
      "execution_count": 0,
      "outputs": []
    },
    {
      "metadata": {
        "id": "xLtKL5SgAQ_T",
        "colab_type": "code",
        "colab": {}
      },
      "cell_type": "code",
      "source": [
        "sent_att_weights = Model(inputs=sent_input,outputs=sent_coeffs)\n",
        "output_array = sent_att_weights.predict(np.resize(input_array,(1,MAX_SENTENCE_NUM,MAX_WORD_NUM)))\n",
        "\n",
        "# Get n sentences with most attention in document\n",
        "n_sentences = 15\n",
        "sent_index = output_array.flatten().argsort()[-n_sentences:]\n",
        "sent_index = np.sort(sent_index)\n",
        "sent_index = sent_index.tolist()\n",
        "\n",
        "# Create summary using n sentences\n",
        "sent_list = tokenize.sent_tokenize(adrien_text)\n",
        "summary = [sent_list[i] for i in sent_index]"
      ],
      "execution_count": 0,
      "outputs": []
    },
    {
      "metadata": {
        "id": "egKQaYCSAQ8z",
        "colab_type": "code",
        "outputId": "55011a24-9a0d-4785-db07-7c6a25e050bc",
        "colab": {
          "base_uri": "https://localhost:8080/",
          "height": 297
        }
      },
      "cell_type": "code",
      "source": [
        "summary"
      ],
      "execution_count": 0,
      "outputs": [
        {
          "output_type": "execute_result",
          "data": {
            "text/plain": [
              "['Share prices for the British drugmaker Indivior plunged today on the London Stock Exchange.',\n",
              " 'The drop came on news that the U.S. Justice Department indicted the company on fraud and conspiracy charges.',\n",
              " 'Indivior makes the drug Suboxone, widely used to treat people suffering from opioid addiction.',\n",
              " 'Federal prosecutors now claim the company falsely marketed Suboxone as safer and less prone to abuse than cheaper generic drugs.',\n",
              " \"North Country Public Radio's Brian Mann reports.\",\n",
              " 'BRIAN MANN, BYLINE: The 28-count indictment filed in a Virginia court claims Indivior executives lied when they claimed dissolvable Suboxone films placed under the tongue would be safer, harder to misuse than generic tablets that were about to come on the market.',\n",
              " \"Government investigators say, in some cases, Indivior's version of the drug was more risky.\",\n",
              " 'The indictment claims taxpayer-funded programs like Medicare and Medicaid were cheated out of billions of dollars.',\n",
              " \"Justice Department officials declined NPR's request for an interview.\",\n",
              " 'Robert Bird is a professor of business law at the University of Connecticut who follows opioid cases closely.',\n",
              " 'He says this criminal indictment sends a powerful signal to a drug industry already snared in the opioid addiction crisis.',\n",
              " \"ROBERT BIRD: Not only the companies that are being indicted but also other organizations and competitors who will look at these prosecutions and say, I don't want this to happen to me.\",\n",
              " 'MANN: Indivior executives also declined to be interviewed by NPR.',\n",
              " 'But company spokesperson Jennifer Ginther read from a prepared statement, denying any wrongdoing and describing the federal indictment as misguided.',\n",
              " \"JENNIFER GINTHER: Indivior's top priority has always been the treatment of patients struggling with opioid addiction.\"]"
            ]
          },
          "metadata": {
            "tags": []
          },
          "execution_count": 21
        }
      ]
    },
    {
      "metadata": {
        "id": "dJ78TUWcAHYW",
        "colab_type": "code",
        "colab": {}
      },
      "cell_type": "code",
      "source": [
        "def wordAttentionWeights(sequenceSentence,weights):\n",
        "    \"\"\"\n",
        "    The same function as the AttentionLayer class.\n",
        "    \"\"\"\n",
        "    uit = np.dot(sequenceSentence, weights[0]) + weights[1]\n",
        "    uit = np.tanh(uit)\n",
        "\n",
        "    ait = np.dot(uit, weights[2])\n",
        "    ait = np.squeeze(ait)\n",
        "    ait = np.exp(ait)\n",
        "    ait /= np.sum(ait)\n",
        "    \n",
        "    return ait\n",
        "\n",
        "# Summary as input for word attention\n",
        "summary_cleaned, summary_idx = cleanString(' '.join(summary),stopWords)\n",
        "word_input_array = wordToSeq(summary_cleaned,word_index,MAX_SENTENCE_NUM,MAX_WORD_NUM,MAX_FEATURES)\n",
        "\n",
        "# Create model from word input to output of dense layer right before the attention layer\n",
        "hidden_word_encoding_out = Model(inputs=wordEncoder.input, outputs=wordEncoder.get_layer('word_dense').output)\n",
        "# Load weights from trained attention layer\n",
        "word_context = wordEncoder.get_layer('word_attention').get_weights()\n",
        "# Compute output of dense layer\n",
        "hidden_word_encodings = hidden_word_encoding_out.predict(word_input_array)\n",
        "# Compute context vector using output of dense layer\n",
        "ait = wordAttentionWeights(hidden_word_encodings,word_context)"
      ],
      "execution_count": 0,
      "outputs": []
    },
    {
      "metadata": {
        "id": "3V8MTrEVAHTm",
        "colab_type": "code",
        "outputId": "eaba4db9-b04d-4d8c-d729-d7b5718f1a85",
        "colab": {
          "base_uri": "https://localhost:8080/",
          "height": 1077
        }
      },
      "cell_type": "code",
      "source": [
        "# Get n words with most attention in document\n",
        "n_words = 1000\n",
        "\n",
        "flattenlist = []\n",
        "words_unpadded = []\n",
        "for idx,sent in enumerate(tokenize.sent_tokenize(summary_cleaned)):\n",
        "    print(idx)\n",
        "    print(sent)\n",
        "    if(idx>=MAX_SENTENCE_NUM):\n",
        "        break\n",
        "    attword_list = tokenize.word_tokenize(sent.rstrip('.'))\n",
        "    print(attword_list)\n",
        "    ait_short = (1000*ait[idx][:len(attword_list)]).tolist()\n",
        "    print(ait_short)\n",
        "    words_unpadded.extend(ait_short)\n",
        "    flattenlist.extend(attword_list)\n",
        "\n",
        "    \n",
        "words_unpadded = np.array(words_unpadded)\n",
        "sorted_wordlist = [flattenlist[i] for i in words_unpadded.argsort()]\n",
        "\n",
        "mostAtt_words = []\n",
        "i = 0\n",
        "for word in reversed(sorted_wordlist):\n",
        "    if word not in mostAtt_words:\n",
        "        mostAtt_words.append(word)\n",
        "        i += 1\n",
        "    if(i>=n_words):\n",
        "        break"
      ],
      "execution_count": 0,
      "outputs": [
        {
          "output_type": "stream",
          "text": [
            "0\n",
            "share price british drugmaker indivior plunged today london stock exchange .\n",
            "['share', 'price', 'british', 'drugmaker', 'indivior', 'plunged', 'today', 'london', 'stock', 'exchange']\n",
            "[0.6195275187492371, 0.7179938554763794, 0.5452634692192078, 0.6008207201957703, 0.6205522418022156, 0.5354278087615967, 0.4509541690349579, 0.7289270162582397, 0.5647255182266235, 0.5161217451095581]\n",
            "1\n",
            "drop came news justice department indicted company fraud conspiracy charge .\n",
            "['drop', 'came', 'news', 'justice', 'department', 'indicted', 'company', 'fraud', 'conspiracy', 'charge']\n",
            "[0.5931758880615234, 0.5210106372833252, 0.4407845437526703, 0.532782793045044, 0.4997051954269409, 0.63340163230896, 0.5803787112236023, 0.5865179896354675, 0.5949891805648804, 0.5462245941162109]\n",
            "2\n",
            "indivior make drug suboxone widely used treat people suffering opioid addiction .\n",
            "['indivior', 'make', 'drug', 'suboxone', 'widely', 'used', 'treat', 'people', 'suffering', 'opioid', 'addiction']\n",
            "[0.6649157404899597, 0.6490614414215088, 0.49960222840309143, 0.5440427660942078, 0.5267660021781921, 0.5656046271324158, 0.4963211715221405, 0.46027833223342896, 0.48965367674827576, 0.4997357726097107, 0.5003079175949097]\n",
            "3\n",
            "federal prosecutor claim company falsely marketed suboxone safer le prone abuse cheaper generic drug .\n",
            "['federal', 'prosecutor', 'claim', 'company', 'falsely', 'marketed', 'suboxone', 'safer', 'le', 'prone', 'abuse', 'cheaper', 'generic', 'drug']\n",
            "[0.597330629825592, 0.47930771112442017, 0.5958511829376221, 0.5777848958969116, 0.6596614122390747, 0.6496041417121887, 0.6826027035713196, 0.5815660953521729, 0.6248650550842285, 0.5360429286956787, 0.7804866433143616, 0.7245339751243591, 0.6790528893470764, 0.5483949184417725]\n",
            "4\n",
            "north country public radio brian mann report .\n",
            "['north', 'country', 'public', 'radio', 'brian', 'mann', 'report']\n",
            "[0.45730024576187134, 0.43061742186546326, 0.38428589701652527, 0.44772791862487793, 0.46203652024269104, 0.5285940170288086, 0.47223830223083496]\n",
            "5\n",
            "brian mann byline indictment filed virginia court claim indivior executive lied claimed dissolvable suboxone film placed tongue would safer harder misuse generic tablet come market .\n",
            "['brian', 'mann', 'byline', 'indictment', 'filed', 'virginia', 'court', 'claim', 'indivior', 'executive', 'lied', 'claimed', 'dissolvable', 'suboxone', 'film', 'placed', 'tongue', 'would', 'safer', 'harder', 'misuse', 'generic', 'tablet', 'come', 'market']\n",
            "[0.4462895393371582, 0.5462883710861206, 0.5442772507667542, 0.6877313852310181, 0.6191285252571106, 0.500156819820404, 0.5562583804130554, 0.50689297914505, 0.4062051475048065, 0.5798318386077881, 0.513089656829834, 0.4502307176589966, 0.5535679459571838, 0.7696611881256104, 0.701826810836792, 0.6684143543243408, 0.6095108389854431, 0.5040818452835083, 0.6735262274742126, 0.7160190343856812, 0.6484205722808838, 0.6675859093666077, 0.5381922721862793, 0.5210334658622742, 0.5108990669250488]\n",
            "6\n",
            "government investigator say case indivior version drug risky .\n",
            "['government', 'investigator', 'say', 'case', 'indivior', 'version', 'drug', 'risky']\n",
            "[0.6522817015647888, 0.4754805564880371, 0.5550088286399841, 0.48751023411750793, 0.5621485114097595, 0.6863778233528137, 0.6733437180519104, 0.5720525979995728]\n",
            "7\n",
            "indictment claim program like medicare medicaid cheated billion dollar .\n",
            "['indictment', 'claim', 'program', 'like', 'medicare', 'medicaid', 'cheated', 'billion', 'dollar']\n",
            "[0.6109662652015686, 0.5449730753898621, 0.46670377254486084, 0.5676120519638062, 0.5974816083908081, 0.5992291569709778, 0.6464879512786865, 0.7401337623596191, 0.6103304624557495]\n",
            "8\n",
            "justice department official declined npr request interview .\n",
            "['justice', 'department', 'official', 'declined', 'npr', 'request', 'interview']\n",
            "[0.48808446526527405, 0.4095894694328308, 0.45760518312454224, 0.5205897688865662, 0.538547933101654, 0.424558162689209, 0.535509467124939]\n",
            "9\n",
            "robert bird professor business law university connecticut follows opioid case closely .\n",
            "['robert', 'bird', 'professor', 'business', 'law', 'university', 'connecticut', 'follows', 'opioid', 'case', 'closely']\n",
            "[0.4438486397266388, 0.4900648593902588, 0.49995967745780945, 0.5416972041130066, 0.4956129789352417, 0.4900450110435486, 0.5395834445953369, 0.5204302072525024, 0.4351365566253662, 0.4621979296207428, 0.49484196305274963]\n",
            "10\n",
            "say criminal indictment sends powerful signal drug industry already snared opioid addiction crisis .\n",
            "['say', 'criminal', 'indictment', 'sends', 'powerful', 'signal', 'drug', 'industry', 'already', 'snared', 'opioid', 'addiction', 'crisis']\n",
            "[0.640529453754425, 0.5202423334121704, 0.520709216594696, 0.5213924050331116, 0.5328192114830017, 0.6123971343040466, 0.6341176629066467, 0.5305396318435669, 0.46150892972946167, 0.395404189825058, 0.4583994150161743, 0.5127789378166199, 0.5171998739242554]\n",
            "11\n",
            "robert bird company indicted also organization competitor look prosecution say want happen .\n",
            "['robert', 'bird', 'company', 'indicted', 'also', 'organization', 'competitor', 'look', 'prosecution', 'say', 'want', 'happen']\n",
            "[0.45266786217689514, 0.610139012336731, 0.7599714398384094, 0.6624851822853088, 0.4034530818462372, 0.45004287362098694, 0.5990854501724243, 0.5947661995887756, 0.6586911082267761, 0.5688338279724121, 0.5425180792808533, 0.4239204227924347]\n",
            "12\n",
            "mann indivior executive also declined interviewed npr .\n",
            "['mann', 'indivior', 'executive', 'also', 'declined', 'interviewed', 'npr']\n",
            "[0.511475145816803, 0.37660399079322815, 0.4135136902332306, 0.48140475153923035, 0.4202360510826111, 0.4549960792064667, 0.47642335295677185]\n",
            "13\n",
            "company spokesperson jennifer ginther read prepared statement denying wrongdoing describing federal indictment misguided .\n",
            "['company', 'spokesperson', 'jennifer', 'ginther', 'read', 'prepared', 'statement', 'denying', 'wrongdoing', 'describing', 'federal', 'indictment', 'misguided']\n",
            "[0.5143497586250305, 0.4302627742290497, 0.4728285074234009, 0.6473895311355591, 0.5592821836471558, 0.5223080515861511, 0.7051343321800232, 0.6797066926956177, 0.653148353099823, 0.6752818822860718, 0.6257451772689819, 0.6047574281692505, 0.5081799030303955]\n",
            "14\n",
            "jennifer ginther indivior top priority always treatment patient struggling opioid addiction .\n",
            "['jennifer', 'ginther', 'indivior', 'top', 'priority', 'always', 'treatment', 'patient', 'struggling', 'opioid', 'addiction']\n",
            "[0.44356679916381836, 0.48965784907341003, 0.5101388096809387, 0.5849465131759644, 0.5794841051101685, 0.6060943007469177, 0.559963047504425, 0.45993077754974365, 0.4773828089237213, 0.4943900406360626, 0.5003349184989929]\n"
          ],
          "name": "stdout"
        }
      ]
    },
    {
      "metadata": {
        "id": "6qixxjwEBEgE",
        "colab_type": "code",
        "colab": {}
      },
      "cell_type": "code",
      "source": [
        "#Category\n",
        "categoryToCode = {0: 'business', 1: 'entertainment', 2: 'politics', 3: 'sport', 4: 'tech'}\n",
        "\n",
        "res = model.predict(np.expand_dims(input_array,axis=0)).flatten()\n",
        "cat = categoryToCode[np.argmax(res.flatten())]"
      ],
      "execution_count": 0,
      "outputs": []
    },
    {
      "metadata": {
        "id": "vqHuKIc8BEjn",
        "colab_type": "code",
        "outputId": "c72fa738-222f-41fe-aeb9-fef2f51855d6",
        "colab": {
          "base_uri": "https://localhost:8080/",
          "height": 55
        }
      },
      "cell_type": "code",
      "source": [
        "print(cat, mostAtt_words)"
      ],
      "execution_count": 0,
      "outputs": [
        {
          "output_type": "stream",
          "text": [
            "sport ['abuse', 'suboxone', 'company', 'billion', 'london', 'cheaper', 'price', 'harder', 'statement', 'film', 'indictment', 'version', 'denying', 'generic', 'describing', 'safer', 'drug', 'placed', 'indivior', 'indicted', 'falsely', 'prosecution', 'wrongdoing', 'government', 'marketed', 'make', 'misuse', 'ginther', 'cheated', 'say', 'federal', 'le', 'share', 'filed', 'signal', 'dollar', 'bird', 'tongue', 'always', 'drugmaker', 'medicaid', 'competitor', 'medicare', 'claim', 'conspiracy', 'look', 'drop', 'fraud', 'top', 'executive', 'priority', 'risky', 'like', 'used', 'stock', 'treatment', 'read', 'court', 'dissolvable', 'mann', 'charge', 'british', 'byline', 'want', 'business', 'connecticut', 'npr', 'tablet', 'prone', 'interview', 'plunged', 'powerful', 'justice', 'industry', 'widely', 'prepared', 'sends', 'come', 'came', 'declined', 'follows', 'criminal', 'crisis', 'exchange', 'lied', 'addiction', 'market', 'misguided', 'would', 'virginia', 'professor', 'opioid', 'department', 'treat', 'law', 'closely', 'university', 'suffering', 'case', 'also', 'prosecutor', 'struggling', 'investigator', 'jennifer', 'report', 'program', 'brian', 'already', 'people', 'patient', 'official', 'north', 'interviewed', 'robert', 'today', 'claimed', 'organization', 'radio', 'news', 'country', 'spokesperson', 'request', 'happen', 'snared', 'public']\n"
          ],
          "name": "stdout"
        }
      ]
    },
    {
      "metadata": {
        "id": "hPCC50kJBEnM",
        "colab_type": "code",
        "colab": {}
      },
      "cell_type": "code",
      "source": [
        ""
      ],
      "execution_count": 0,
      "outputs": []
    },
    {
      "metadata": {
        "id": "DJe5m1lUBEqi",
        "colab_type": "code",
        "colab": {}
      },
      "cell_type": "code",
      "source": [
        ""
      ],
      "execution_count": 0,
      "outputs": []
    }
  ]
}