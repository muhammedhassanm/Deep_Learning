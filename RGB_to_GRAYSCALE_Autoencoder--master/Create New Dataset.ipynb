{
 "cells": [
  {
   "cell_type": "code",
   "execution_count": 1,
   "metadata": {},
   "outputs": [],
   "source": [
    "import cv2\n",
    "import glob \n",
    "\n",
    "count = 1"
   ]
  },
  {
   "cell_type": "code",
   "execution_count": 2,
   "metadata": {},
   "outputs": [],
   "source": [
    "path_daisy = 'flower_photos/daisy/*.jpg'\n",
    "path_dandelion = 'flower_photos/dandelion/*.jpg'\n",
    "path_roses = 'flower_photos/roses/*.jpg'\n",
    "path_sunflowers = 'flower_photos/sunflowers/*.jpg'\n",
    "path_tulips = 'flower_photos/tulips/*.jpg'\n",
    "\n",
    "paths_list = [path_daisy, path_dandelion, path_roses, path_sunflowers, path_tulips]"
   ]
  },
  {
   "cell_type": "code",
   "execution_count": 3,
   "metadata": {},
   "outputs": [],
   "source": [
    "for path in paths_list:\n",
    "    \n",
    "    filenames = glob.glob(path)\n",
    "\n",
    "    for filename in filenames:\n",
    "        \n",
    "        image = cv2.imread(filename)\n",
    "        gray_img = cv2.cvtColor(image, cv2.COLOR_BGR2GRAY)\n",
    "        \n",
    "        image = cv2.resize(image, (128, 128))\n",
    "        gray_img = cv2.resize(gray_img, (128, 128))\n",
    "    \n",
    "        cv2.imwrite(\"gray_images/gray_\" +str(count) +\".jpg\", gray_img)\n",
    "        cv2.imwrite(\"color_images/color_\" +str(count) +\".jpg\", image)\n",
    "    \n",
    "        count += 1"
   ]
  },
  {
   "cell_type": "code",
   "execution_count": null,
   "metadata": {},
   "outputs": [],
   "source": []
  }
 ],
 "metadata": {
  "kernelspec": {
   "display_name": "Python 3",
   "language": "python",
   "name": "python3"
  },
  "language_info": {
   "codemirror_mode": {
    "name": "ipython",
    "version": 3
   },
   "file_extension": ".py",
   "mimetype": "text/x-python",
   "name": "python",
   "nbconvert_exporter": "python",
   "pygments_lexer": "ipython3",
   "version": "3.5.5"
  }
 },
 "nbformat": 4,
 "nbformat_minor": 2
}
